{
 "metadata": {
  "language_info": {
   "codemirror_mode": {
    "name": "ipython",
    "version": 3
   },
   "file_extension": ".py",
   "mimetype": "text/x-python",
   "name": "python",
   "nbconvert_exporter": "python",
   "pygments_lexer": "ipython3",
   "version": "3.8.6-final"
  },
  "orig_nbformat": 2,
  "kernelspec": {
   "name": "python3",
   "display_name": "Python 3"
  }
 },
 "nbformat": 4,
 "nbformat_minor": 2,
 "cells": [
  {
   "cell_type": "code",
   "execution_count": null,
   "metadata": {},
   "outputs": [],
   "source": [
    "groups = []\n",
    "with open('in.txt') as f: \n",
    "    group = []\n",
    "    for line in f:\n",
    "        line = line.strip()\n",
    "        if not line:\n",
    "            groups.append(group)\n",
    "            group = []\n",
    "            continue\n",
    "        group.append(line)\n",
    "    groups.append(group)"
   ]
  },
  {
   "cell_type": "code",
   "execution_count": null,
   "metadata": {},
   "outputs": [],
   "source": [
    "flatten = lambda t: [item for sublist in t for item in sublist]\n",
    "\n",
    "def check_every_contains(group_answers, char):\n",
    "    for answer in group_answers:\n",
    "        if not char in answer:\n",
    "            return False\n",
    "    return True\n",
    "\n",
    "# Part A\n",
    "sum_unique = 0\n",
    "# Part B\n",
    "sum_everyone = 0\n",
    "for group_answers in groups:\n",
    "    unique_chars = set(flatten(group_answers))\n",
    "    sum_unique += len(unique_chars)\n",
    "    for char in unique_chars:\n",
    "        if check_every_contains(group_answers, char):\n",
    "            sum_everyone += 1\n",
    "print(f\"Sum for part a {sum_unique}\")\n",
    "print(f\"Sum for part b {sum_everyone}\")"
   ]
  }
 ]
}