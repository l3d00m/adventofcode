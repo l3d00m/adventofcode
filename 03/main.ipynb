{
 "metadata": {
  "language_info": {
   "codemirror_mode": {
    "name": "ipython",
    "version": 3
   },
   "file_extension": ".py",
   "mimetype": "text/x-python",
   "name": "python",
   "nbconvert_exporter": "python",
   "pygments_lexer": "ipython3",
   "version": "3.8.6-final"
  },
  "orig_nbformat": 2,
  "kernelspec": {
   "name": "python3",
   "display_name": "Python 3"
  }
 },
 "nbformat": 4,
 "nbformat_minor": 2,
 "cells": [
  {
   "cell_type": "code",
   "execution_count": null,
   "metadata": {},
   "outputs": [],
   "source": [
    "pws = []\n",
    "lines = []\n",
    "with open('in.txt') as f:\n",
    "    lines = f.read().splitlines()"
   ]
  },
  {
   "cell_type": "code",
   "execution_count": null,
   "metadata": {
    "tags": []
   },
   "outputs": [],
   "source": [
    "def get_trees(dx, dy):\n",
    "    tree_cnt = 0\n",
    "    x = 0\n",
    "    y = 0\n",
    "    for i,line in enumerate(lines):\n",
    "        if i != y:\n",
    "            continue\n",
    "        if line[x % len(line)] == \"#\":\n",
    "            tree_cnt+=1\n",
    "        x += dx\n",
    "        y += dy\n",
    "    return tree_cnt\n"
   ]
  },
  {
   "cell_type": "code",
   "execution_count": null,
   "metadata": {},
   "outputs": [],
   "source": [
    "results = []\n",
    "results.append(get_trees(1,1))\n",
    "results.append(get_trees(3,1))\n",
    "results.append(get_trees(5,1))\n",
    "results.append(get_trees(7,1))\n",
    "results.append(get_trees(1,2))\n",
    "print(results)\n",
    "import functools\n",
    "import operator\n",
    "functools.reduce(operator.mul, results, 1)"
   ]
  }
 ]
}