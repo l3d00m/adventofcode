{
 "metadata": {
  "language_info": {
   "codemirror_mode": {
    "name": "ipython",
    "version": 3
   },
   "file_extension": ".py",
   "mimetype": "text/x-python",
   "name": "python",
   "nbconvert_exporter": "python",
   "pygments_lexer": "ipython3",
   "version": "3.8.6-final"
  },
  "orig_nbformat": 2,
  "kernelspec": {
   "name": "python3",
   "display_name": "Python 3"
  }
 },
 "nbformat": 4,
 "nbformat_minor": 2,
 "cells": [
  {
   "cell_type": "code",
   "execution_count": 22,
   "metadata": {},
   "outputs": [
    {
     "output_type": "stream",
     "name": "stdout",
     "text": [
      "90433990\n"
     ]
    }
   ],
   "source": [
    "from aocd import get_data\n",
    "lines = get_data(day=9, year=2020).splitlines()\n",
    "preamble = 25\n",
    "\n",
    "#with open('in.txt') as f: \n",
    "#    lines = f.readlines()\n",
    "#preamble = 5\n",
    "\n",
    "lines = [int(n) for n in lines]\n",
    "\n",
    "\n",
    "def is_valid(idx, number, lines):\n",
    "    for prev1 in range(idx-preamble, idx):\n",
    "        for prev2 in range(idx-preamble, idx):\n",
    "            this_sum  = lines[prev1] + lines[prev2]\n",
    "            if this_sum == number:\n",
    "                return True\n",
    "    return False\n",
    "\n",
    "\n",
    "for i in range(preamble,len(lines)):\n",
    "    current_num = lines[i]\n",
    "    if not is_valid(i, current_num, lines):\n",
    "        print(current_num)\n",
    "        break\n",
    "\n",
    "num_to_find = current_num"
   ]
  },
  {
   "cell_type": "code",
   "execution_count": 23,
   "metadata": {},
   "outputs": [
    {
     "output_type": "stream",
     "name": "stdout",
     "text": [
      "[3289338, 5179176, 4759952, 5413470, 8402308, 4463250, 5358204, 5385482, 4715571, 5141223, 4879861, 5096842, 5206454, 6345865, 5288410, 5946272]\nsmallest: 3289338, biggest: 8402308, sum: 11691646\n"
     ]
    }
   ],
   "source": [
    "for start_i, n in enumerate(lines):\n",
    "    this_sum = 0\n",
    "    next_i = start_i\n",
    "    while this_sum < num_to_find:\n",
    "        this_sum += lines[next_i]\n",
    "        next_i += 1\n",
    "    if this_sum == num_to_find:\n",
    "        end_i = next_i -1\n",
    "        break\n",
    "c_range = lines[start_i:end_i]\n",
    "print(c_range)\n",
    "print(f\"smallest: {min(c_range)}, biggest: {max(c_range)}, sum: {min(c_range) + max(c_range)}\")"
   ]
  },
  {
   "cell_type": "code",
   "execution_count": null,
   "metadata": {},
   "outputs": [],
   "source": []
  }
 ]
}