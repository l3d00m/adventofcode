{
 "metadata": {
  "language_info": {
   "codemirror_mode": {
    "name": "ipython",
    "version": 3
   },
   "file_extension": ".py",
   "mimetype": "text/x-python",
   "name": "python",
   "nbconvert_exporter": "python",
   "pygments_lexer": "ipython3",
   "version": "3.8.6-final"
  },
  "orig_nbformat": 2,
  "kernelspec": {
   "name": "python3",
   "display_name": "Python 3"
  }
 },
 "nbformat": 4,
 "nbformat_minor": 2,
 "cells": [
  {
   "cell_type": "code",
   "execution_count": null,
   "metadata": {},
   "outputs": [],
   "source": [
    "pws = []\n",
    "policies_in = []\n",
    "with open('in.txt') as f:\n",
    "    #lines = f.read().splitlines()\n",
    "    for line in f:\n",
    "        policy, pw = line.split(\":\")\n",
    "        pws.append(pw.strip())\n",
    "        policies_in.append(policy.strip())"
   ]
  },
  {
   "cell_type": "code",
   "execution_count": null,
   "metadata": {
    "tags": []
   },
   "outputs": [],
   "source": [
    "class Policy:\n",
    "    def __init__(self, policy_str):\n",
    "        parts = policy_str.split(\" \")\n",
    "        self.char = parts[1]\n",
    "        self.min_num = int(parts[0].split(\"-\")[0])\n",
    "        self.max_num = int(parts[0].split(\"-\")[1])\n",
    "        self.pos1 = self.min_num - 1\n",
    "        self.pos2 = self.max_num - 1\n",
    "        #print(f\"In string: {policy_str}, char: {self.char}, min_num: {self.min_num}, max_num: {self.max_num}\")\n",
    "policies = [Policy(p) for p in policies_in]"
   ]
  },
  {
   "cell_type": "code",
   "execution_count": null,
   "metadata": {},
   "outputs": [],
   "source": [
    "is_valid = 0\n",
    "for i, pw in enumerate(pws):\n",
    "    policy = policies[i]\n",
    "    num_char = pw.count(policy.char)\n",
    "    #print(f\"{pw} has {num_char} of {policy.char}\")\n",
    "    if num_char >= policy.min_num and num_char <= policy.max_num:\n",
    "        is_valid += 1\n",
    "is_valid"
   ]
  },
  {
   "cell_type": "code",
   "execution_count": null,
   "metadata": {},
   "outputs": [],
   "source": [
    "is_valid = 0\n",
    "for i, pw in enumerate(pws):\n",
    "    policy = policies[i]\n",
    "    pos1_contains = pw[policy.pos1] == policy.char\n",
    "    pos2_contains = pw[policy.pos2] == policy.char\n",
    "    if pos1_contains != pos2_contains:\n",
    "        is_valid += 1\n",
    "is_valid"
   ]
  },
  {
   "cell_type": "code",
   "execution_count": null,
   "metadata": {},
   "outputs": [],
   "source": []
  }
 ]
}