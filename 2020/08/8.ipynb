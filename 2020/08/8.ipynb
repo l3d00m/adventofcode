{
 "metadata": {
  "language_info": {
   "codemirror_mode": {
    "name": "ipython",
    "version": 3
   },
   "file_extension": ".py",
   "mimetype": "text/x-python",
   "name": "python",
   "nbconvert_exporter": "python",
   "pygments_lexer": "ipython3",
   "version": "3.8.6-final"
  },
  "orig_nbformat": 2,
  "kernelspec": {
   "name": "python3",
   "display_name": "Python 3"
  }
 },
 "nbformat": 4,
 "nbformat_minor": 2,
 "cells": [
  {
   "cell_type": "code",
   "execution_count": null,
   "metadata": {},
   "outputs": [],
   "source": [
    "from aocd import get_data\n",
    "lines = get_data(day=8, year=2020).splitlines()\n",
    "#with open('in.txt') as f: \n",
    "#    lines = f.readlines()\n",
    "\n",
    "def execute(pc, cmd, op):\n",
    "    acc_inc = 0\n",
    "    if cmd == \"acc\":\n",
    "        acc_inc = int(op)\n",
    "    if cmd == \"jmp\":\n",
    "        return pc + int(op), 0\n",
    "    return pc+1,acc_inc\n",
    "\n",
    "def is_loop(new_lines):\n",
    "    pc = 0\n",
    "    acc = 0\n",
    "    visited_lines = []\n",
    "\n",
    "    while pc not in visited_lines and pc < len(new_lines):\n",
    "        visited_lines.append(pc)\n",
    "        cmd, op = new_lines[pc].split(\" \")\n",
    "        pc, acc_inc = execute(pc, cmd, op)\n",
    "        acc += acc_inc\n",
    "    if pc == len(new_lines):\n",
    "        return False, acc\n",
    "    return True, acc\n",
    "\n",
    "# Part A\n",
    "_,acc = is_loop(lines)\n",
    "print(acc)\n",
    "\n",
    "# Part B\n",
    "for i, line in enumerate(lines):\n",
    "    modified_lines = lines.copy()\n",
    "    cmd, op = lines[i].split(\" \")\n",
    "    if cmd == \"nop\":\n",
    "        modified_lines[i] = modified_lines[i].replace(\"nop\", \"jmp\")\n",
    "    elif cmd == \"jmp\":\n",
    "        modified_lines[i] = modified_lines[i].replace(\"jmp\", \"nop\")\n",
    "    else:\n",
    "        continue\n",
    "    loops, acc = is_loop(modified_lines)\n",
    "    if not loops:\n",
    "        print(acc)\n",
    "        break\n"
   ]
  },
  {
   "cell_type": "code",
   "execution_count": null,
   "metadata": {},
   "outputs": [],
   "source": []
  }
 ]
}