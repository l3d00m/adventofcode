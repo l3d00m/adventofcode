{
 "metadata": {
  "language_info": {
   "codemirror_mode": {
    "name": "ipython",
    "version": 3
   },
   "file_extension": ".py",
   "mimetype": "text/x-python",
   "name": "python",
   "nbconvert_exporter": "python",
   "pygments_lexer": "ipython3",
   "version": "3.8.6-final"
  },
  "orig_nbformat": 2,
  "kernelspec": {
   "name": "python3",
   "display_name": "Python 3"
  }
 },
 "nbformat": 4,
 "nbformat_minor": 2,
 "cells": [
  {
   "cell_type": "code",
   "execution_count": null,
   "metadata": {},
   "outputs": [],
   "source": [
    "from aocd import get_data\n",
    "lines = get_data(day=10, year=2020).splitlines()\n",
    "\n",
    "\n",
    "#with open('in.txt') as f: \n",
    "#    lines = f.readlines()\n",
    "\n",
    "lines = [int(n) for n in lines]\n",
    "lines.append(0)\n",
    "lines.append(max(lines)+3)\n",
    "lines.sort()"
   ]
  },
  {
   "cell_type": "code",
   "execution_count": null,
   "metadata": {},
   "outputs": [],
   "source": [
    "xdiff = [lines[n]-lines[n-1] for n in range(1,len(lines))]\n",
    "\n",
    "print(xdiff.count(1))\n",
    "print(xdiff.count(3))\n",
    "print(xdiff.count(1)*xdiff.count(3))"
   ]
  },
  {
   "cell_type": "code",
   "execution_count": null,
   "metadata": {},
   "outputs": [],
   "source": [
    "valid_indices = {}\n",
    "for i1, item in enumerate(lines):\n",
    "    i2 = i1 + 1\n",
    "    possible_childs = []\n",
    "    while i2 < len(lines) and lines[i2] - item <=3:\n",
    "        possible_childs.append(i2)\n",
    "        i2 += 1\n",
    "    valid_indices[i1] = possible_childs\n",
    "\n",
    "possible_solutions = {}\n",
    "\n",
    "for i, childs in reversed(valid_indices.items()):\n",
    "    if i == len(lines) -1:\n",
    "        possible_solutions[i] = 1\n",
    "        continue\n",
    "    this_cnt = 0\n",
    "    for child_i in childs:\n",
    "        this_cnt += possible_solutions[child_i]\n",
    "    possible_solutions[i] = this_cnt\n",
    "\n",
    "print(possible_solutions[0])"
   ]
  },
  {
   "cell_type": "code",
   "execution_count": null,
   "metadata": {},
   "outputs": [],
   "source": []
  }
 ]
}