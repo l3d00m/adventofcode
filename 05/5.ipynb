{
 "metadata": {
  "language_info": {
   "codemirror_mode": {
    "name": "ipython",
    "version": 3
   },
   "file_extension": ".py",
   "mimetype": "text/x-python",
   "name": "python",
   "nbconvert_exporter": "python",
   "pygments_lexer": "ipython3",
   "version": "3.9.0-final"
  },
  "orig_nbformat": 2,
  "kernelspec": {
   "name": "python3",
   "display_name": "Python 3.9.0 64-bit",
   "metadata": {
    "interpreter": {
     "hash": "0a48755110956b4e642d187f0ea4379f17d0ea5d04f44da7b7029377a566289d"
    }
   }
  }
 },
 "nbformat": 4,
 "nbformat_minor": 2,
 "cells": [
  {
   "cell_type": "code",
   "execution_count": null,
   "metadata": {},
   "outputs": [],
   "source": [
    "lines = []\n",
    "with open('in.txt') as f: \n",
    "    lines = f.readlines()"
   ]
  },
  {
   "cell_type": "code",
   "execution_count": null,
   "metadata": {
    "tags": []
   },
   "outputs": [],
   "source": [
    "import math\n",
    "def getPlace(chars, last_num):\n",
    "    start = 0\n",
    "    end = last_num\n",
    "    for char in chars:\n",
    "        diff = end-start\n",
    "        half = math.ceil(diff/2)\n",
    "        if char == \"F\" or char == \"L\":\n",
    "            end -= half\n",
    "        if char == \"B\" or char == \"R\":\n",
    "            start += half\n",
    "    if start != end:\n",
    "        raise Exception()\n",
    "    return start\n",
    "\n",
    "\n",
    "seat_ids = []\n",
    "for place in lines:\n",
    "    vertical = getPlace(place[0:7], 127)\n",
    "    horizontal = getPlace(place[7:10], 7)\n",
    "    seat_ids.append(vertical * 8 + horizontal)\n",
    "maximum = max(seat_ids)\n",
    "print(f\"Max ist {maximum}\")"
   ]
  },
  {
   "cell_type": "code",
   "execution_count": null,
   "metadata": {},
   "outputs": [],
   "source": [
    "for i in range(0, maximum):\n",
    "    if i not in seat_ids and i-1 in seat_ids and i+1 in seat_ids:\n",
    "        print(f\"Missing ticket id is {i}\")"
   ]
  },
  {
   "cell_type": "code",
   "execution_count": null,
   "metadata": {},
   "outputs": [],
   "source": []
  }
 ]
}