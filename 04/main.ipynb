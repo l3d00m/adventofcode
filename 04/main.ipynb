{
 "metadata": {
  "language_info": {
   "codemirror_mode": {
    "name": "ipython",
    "version": 3
   },
   "file_extension": ".py",
   "mimetype": "text/x-python",
   "name": "python",
   "nbconvert_exporter": "python",
   "pygments_lexer": "ipython3",
   "version": "3.8.6-final"
  },
  "orig_nbformat": 2,
  "kernelspec": {
   "name": "python3",
   "display_name": "Python 3"
  }
 },
 "nbformat": 4,
 "nbformat_minor": 2,
 "cells": [
  {
   "cell_type": "code",
   "execution_count": null,
   "metadata": {},
   "outputs": [],
   "source": [
    "passports = []\n",
    "with open('in.txt') as f:\n",
    "    pp = {}\n",
    "    for line in f:\n",
    "        line = line.strip()\n",
    "        for field in line.split():\n",
    "            parts = field.split(\":\")\n",
    "            pp[parts[0]] = parts[1]\n",
    "        if line == \"\":\n",
    "            passports.append(pp)\n",
    "            pp = {}\n",
    "    passports.append(pp)"
   ]
  },
  {
   "cell_type": "code",
   "execution_count": null,
   "metadata": {
    "tags": []
   },
   "outputs": [],
   "source": [
    "import re\n",
    "required_fields = [\"byr\",\"iyr\",\"eyr\",\"hgt\",\"hcl\",\"ecl\",\"pid\"]\n",
    "def is_valid_pp(pp):\n",
    "    field_counter = 0\n",
    "    for field in required_fields:\n",
    "        if not field in pp:\n",
    "            return False\n",
    "\n",
    "    if len(pp['byr']) != 4 or not (1920 <= int(pp['byr']) <= 2002):\n",
    "        return False\n",
    "    if len(pp['iyr']) != 4 or not (2010 <= int(pp['iyr']) <= 2020):\n",
    "        return False\n",
    "    if len(pp['eyr']) != 4 or not (2020 <= int(pp['eyr']) <= 2030):\n",
    "        return False\n",
    "    hgt_re = re.compile(r\"^\\d+(cm|in)$\")\n",
    "    if not hgt_re.match(pp['hgt']):\n",
    "        return False\n",
    "    hgt = int(pp['hgt'][:-2])\n",
    "    if pp['hgt'].endswith('cm') and not (150 <= hgt <= 193):\n",
    "        return False\n",
    "    if pp['hgt'].endswith('in') and not (59 <= hgt <= 76):\n",
    "        return False\n",
    "    hcl_re = re.compile(r\"^#[\\dabcdef]{6}$\")\n",
    "    if not hcl_re.match(pp['hcl']):\n",
    "        return False\n",
    "    if not (pp['ecl'] in [\"amb\",\"blu\",\"brn\",\"gry\",\"grn\",\"hzl\",\"oth\"]):\n",
    "        return False\n",
    "    pid_re = re.compile(r\"^\\d{9}$\")\n",
    "    if not pid_re.match(pp['pid']):\n",
    "        return False\n",
    "    return True\n",
    "\n",
    "print([is_valid_pp(pp) for pp in passports].count(True))"
   ]
  },
  {
   "cell_type": "code",
   "execution_count": null,
   "metadata": {},
   "outputs": [],
   "source": []
  }
 ]
}