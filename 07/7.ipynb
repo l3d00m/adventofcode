{
 "metadata": {
  "language_info": {
   "codemirror_mode": {
    "name": "ipython",
    "version": 3
   },
   "file_extension": ".py",
   "mimetype": "text/x-python",
   "name": "python",
   "nbconvert_exporter": "python",
   "pygments_lexer": "ipython3",
   "version": "3.8.6-final"
  },
  "orig_nbformat": 2,
  "kernelspec": {
   "name": "python3",
   "display_name": "Python 3"
  }
 },
 "nbformat": 4,
 "nbformat_minor": 2,
 "cells": [
  {
   "cell_type": "code",
   "execution_count": null,
   "metadata": {
    "tags": []
   },
   "outputs": [],
   "source": [
    "from aocd import get_data\n",
    "lines = get_data(day=7, year=2020).splitlines()\n",
    "#with open('in.txt') as f: \n",
    "#    lines = f.readlines()\n",
    "\n",
    "import pyparsing as pp\n",
    "color_name = pp.Combine(pp.Word(pp.alphas) * 2, adjacent=False)\n",
    "rule = color_name + pp.Suppress(\"bags contain\") + pp.Group(pp.Group(pp.Word(pp.nums) + color_name + pp.Suppress(\"bag\" + pp.Optional(\"s\") + pp.Optional(\",\")))[0,10])\n",
    "color_items = {}\n",
    "for line in lines:\n",
    "    parsed = rule.parseString(line)\n",
    "    #print(parsed)\n",
    "    main_name = parsed[0]\n",
    "    subitems = {}\n",
    "    for subitem_parsed in parsed[1]:\n",
    "        subitems[subitem_parsed[1]] = int(subitem_parsed[0])\n",
    "    color_items[main_name] = subitems"
   ]
  },
  {
   "cell_type": "code",
   "execution_count": null,
   "metadata": {},
   "outputs": [],
   "source": [
    "\n",
    "def recurse(color_to_find, parents=set()):\n",
    "    for itemname, childs in color_items.items():\n",
    "        if color_to_find in childs.keys():\n",
    "            if itemname not in parents:\n",
    "                parents.add(itemname)\n",
    "                parents = recurse(itemname, parents)\n",
    "    return parents\n",
    "\n",
    "all_items = recurse(\"shinygold\")\n",
    "len(all_items)"
   ]
  },
  {
   "cell_type": "code",
   "execution_count": null,
   "metadata": {},
   "outputs": [],
   "source": [
    "\n",
    "def get_child_count(color):\n",
    "    num_childs = 0\n",
    "    for child_color, count in color_items[color].items():\n",
    "        #print(f\"{color} contains {count} {child_color} bags\")\n",
    "        num_childs += count\n",
    "        num_childs += count * get_child_count(child_color)\n",
    "    return num_childs\n",
    "\n",
    "get_child_count(\"shinygold\")\n"
   ]
  },
  {
   "cell_type": "code",
   "execution_count": null,
   "metadata": {},
   "outputs": [],
   "source": []
  }
 ]
}